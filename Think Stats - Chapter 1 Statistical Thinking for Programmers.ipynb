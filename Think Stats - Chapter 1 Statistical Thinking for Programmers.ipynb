{
 "cells": [
  {
   "cell_type": "code",
   "execution_count": 3,
   "metadata": {},
   "outputs": [],
   "source": [
    "#Think Stats book - Chapter 1: Exploratory Data Analysis\n",
    "#http://greenteapress.com/thinkstats/survey.py\n",
    "\n",
    "import pandas as pd\n",
    "import numpy as np\n",
    "import survey"
   ]
  },
  {
   "cell_type": "code",
   "execution_count": 79,
   "metadata": {},
   "outputs": [
    {
     "name": "stdout",
     "output_type": "stream",
     "text": [
      "Number of pregnancies:  13593\n"
     ]
    }
   ],
   "source": [
    "table = survey.Pregnancies()\n",
    "table.ReadRecords()\n",
    "print('Number of pregnancies: ', len(table.records))"
   ]
  },
  {
   "cell_type": "code",
   "execution_count": 23,
   "metadata": {},
   "outputs": [
    {
     "name": "stdout",
     "output_type": "stream",
     "text": [
      "('caseid', 1, 12, <class 'int'>)\n",
      "('nbrnaliv', 22, 22, <class 'int'>)\n",
      "('babysex', 56, 56, <class 'int'>)\n",
      "('birthwgt_lb', 57, 58, <class 'int'>)\n",
      "('birthwgt_oz', 59, 60, <class 'int'>)\n",
      "('prglength', 275, 276, <class 'int'>)\n",
      "('outcome', 277, 277, <class 'int'>)\n",
      "('birthord', 278, 279, <class 'int'>)\n",
      "('agepreg', 284, 287, <class 'int'>)\n",
      "('finalwgt', 423, 440, <class 'float'>)\n"
     ]
    }
   ],
   "source": [
    "names = []\n",
    "first_value = []\n",
    "second_value = []\n",
    "for register in table.GetFields():\n",
    "    print(register)\n",
    "    names.append(register[0])\n",
    "    first_value.append(register[1])\n",
    "    second_value.append(register[2])\n",
    "    \n",
    "#caseid: id of the respondent\n",
    "#prglength: pregnancy duration (in weeks)\n",
    "#outcome: number 1 indicates live birth\n",
    "#birthord: number 1 indicates first child\n",
    "#finalwgt: Number of people in US population this respondent represents"
   ]
  },
  {
   "cell_type": "code",
   "execution_count": 78,
   "metadata": {},
   "outputs": [
    {
     "data": {
      "text/html": [
       "<div>\n",
       "<style scoped>\n",
       "    .dataframe tbody tr th:only-of-type {\n",
       "        vertical-align: middle;\n",
       "    }\n",
       "\n",
       "    .dataframe tbody tr th {\n",
       "        vertical-align: top;\n",
       "    }\n",
       "\n",
       "    .dataframe thead th {\n",
       "        text-align: right;\n",
       "    }\n",
       "</style>\n",
       "<table border=\"1\" class=\"dataframe\">\n",
       "  <thead>\n",
       "    <tr style=\"text-align: right;\">\n",
       "      <th></th>\n",
       "      <th>caseid</th>\n",
       "      <th>nbrnaliv</th>\n",
       "      <th>babysex</th>\n",
       "      <th>birthwgt_lb</th>\n",
       "      <th>birthwgt_oz</th>\n",
       "      <th>prglength</th>\n",
       "      <th>outcome</th>\n",
       "      <th>birthord</th>\n",
       "      <th>agepreg</th>\n",
       "      <th>finalwgt</th>\n",
       "    </tr>\n",
       "  </thead>\n",
       "  <tbody>\n",
       "    <tr>\n",
       "      <th>0</th>\n",
       "      <td>1</td>\n",
       "      <td>1.0</td>\n",
       "      <td>1.0</td>\n",
       "      <td>8.0</td>\n",
       "      <td>13.0</td>\n",
       "      <td>39</td>\n",
       "      <td>1</td>\n",
       "      <td>1.0</td>\n",
       "      <td>3316.0</td>\n",
       "      <td>6448.271112</td>\n",
       "    </tr>\n",
       "    <tr>\n",
       "      <th>1</th>\n",
       "      <td>1</td>\n",
       "      <td>1.0</td>\n",
       "      <td>2.0</td>\n",
       "      <td>7.0</td>\n",
       "      <td>14.0</td>\n",
       "      <td>39</td>\n",
       "      <td>1</td>\n",
       "      <td>2.0</td>\n",
       "      <td>3925.0</td>\n",
       "      <td>6448.271112</td>\n",
       "    </tr>\n",
       "    <tr>\n",
       "      <th>2</th>\n",
       "      <td>2</td>\n",
       "      <td>3.0</td>\n",
       "      <td>1.0</td>\n",
       "      <td>9.0</td>\n",
       "      <td>2.0</td>\n",
       "      <td>39</td>\n",
       "      <td>1</td>\n",
       "      <td>1.0</td>\n",
       "      <td>1433.0</td>\n",
       "      <td>12999.542264</td>\n",
       "    </tr>\n",
       "    <tr>\n",
       "      <th>3</th>\n",
       "      <td>2</td>\n",
       "      <td>1.0</td>\n",
       "      <td>2.0</td>\n",
       "      <td>7.0</td>\n",
       "      <td>0.0</td>\n",
       "      <td>39</td>\n",
       "      <td>1</td>\n",
       "      <td>2.0</td>\n",
       "      <td>1783.0</td>\n",
       "      <td>12999.542264</td>\n",
       "    </tr>\n",
       "    <tr>\n",
       "      <th>4</th>\n",
       "      <td>2</td>\n",
       "      <td>1.0</td>\n",
       "      <td>2.0</td>\n",
       "      <td>6.0</td>\n",
       "      <td>3.0</td>\n",
       "      <td>39</td>\n",
       "      <td>1</td>\n",
       "      <td>3.0</td>\n",
       "      <td>1833.0</td>\n",
       "      <td>12999.542264</td>\n",
       "    </tr>\n",
       "    <tr>\n",
       "      <th>5</th>\n",
       "      <td>6</td>\n",
       "      <td>1.0</td>\n",
       "      <td>1.0</td>\n",
       "      <td>8.0</td>\n",
       "      <td>9.0</td>\n",
       "      <td>38</td>\n",
       "      <td>1</td>\n",
       "      <td>1.0</td>\n",
       "      <td>2700.0</td>\n",
       "      <td>8874.440799</td>\n",
       "    </tr>\n",
       "    <tr>\n",
       "      <th>6</th>\n",
       "      <td>6</td>\n",
       "      <td>1.0</td>\n",
       "      <td>2.0</td>\n",
       "      <td>9.0</td>\n",
       "      <td>9.0</td>\n",
       "      <td>40</td>\n",
       "      <td>1</td>\n",
       "      <td>2.0</td>\n",
       "      <td>2883.0</td>\n",
       "      <td>8874.440799</td>\n",
       "    </tr>\n",
       "    <tr>\n",
       "      <th>7</th>\n",
       "      <td>6</td>\n",
       "      <td>1.0</td>\n",
       "      <td>2.0</td>\n",
       "      <td>8.0</td>\n",
       "      <td>6.0</td>\n",
       "      <td>42</td>\n",
       "      <td>1</td>\n",
       "      <td>3.0</td>\n",
       "      <td>3016.0</td>\n",
       "      <td>8874.440799</td>\n",
       "    </tr>\n",
       "    <tr>\n",
       "      <th>8</th>\n",
       "      <td>7</td>\n",
       "      <td>1.0</td>\n",
       "      <td>1.0</td>\n",
       "      <td>7.0</td>\n",
       "      <td>9.0</td>\n",
       "      <td>39</td>\n",
       "      <td>1</td>\n",
       "      <td>1.0</td>\n",
       "      <td>2808.0</td>\n",
       "      <td>6911.879921</td>\n",
       "    </tr>\n",
       "    <tr>\n",
       "      <th>9</th>\n",
       "      <td>7</td>\n",
       "      <td>1.0</td>\n",
       "      <td>2.0</td>\n",
       "      <td>6.0</td>\n",
       "      <td>10.0</td>\n",
       "      <td>35</td>\n",
       "      <td>1</td>\n",
       "      <td>2.0</td>\n",
       "      <td>3233.0</td>\n",
       "      <td>6911.879921</td>\n",
       "    </tr>\n",
       "  </tbody>\n",
       "</table>\n",
       "</div>"
      ],
      "text/plain": [
       "   caseid  nbrnaliv  babysex  birthwgt_lb  birthwgt_oz  prglength  outcome  \\\n",
       "0       1       1.0      1.0          8.0         13.0         39        1   \n",
       "1       1       1.0      2.0          7.0         14.0         39        1   \n",
       "2       2       3.0      1.0          9.0          2.0         39        1   \n",
       "3       2       1.0      2.0          7.0          0.0         39        1   \n",
       "4       2       1.0      2.0          6.0          3.0         39        1   \n",
       "5       6       1.0      1.0          8.0          9.0         38        1   \n",
       "6       6       1.0      2.0          9.0          9.0         40        1   \n",
       "7       6       1.0      2.0          8.0          6.0         42        1   \n",
       "8       7       1.0      1.0          7.0          9.0         39        1   \n",
       "9       7       1.0      2.0          6.0         10.0         35        1   \n",
       "\n",
       "   birthord  agepreg      finalwgt  \n",
       "0       1.0   3316.0   6448.271112  \n",
       "1       2.0   3925.0   6448.271112  \n",
       "2       1.0   1433.0  12999.542264  \n",
       "3       2.0   1783.0  12999.542264  \n",
       "4       3.0   1833.0  12999.542264  \n",
       "5       1.0   2700.0   8874.440799  \n",
       "6       2.0   2883.0   8874.440799  \n",
       "7       3.0   3016.0   8874.440799  \n",
       "8       1.0   2808.0   6911.879921  \n",
       "9       2.0   3233.0   6911.879921  "
      ]
     },
     "execution_count": 78,
     "metadata": {},
     "output_type": "execute_result"
    }
   ],
   "source": [
    "#It's easier to work with dataframes\n",
    "data = pd.read_fwf(\"2002FemPreg.dat\", names=names,\n",
    "                                       colspecs=[(first_value[0]-1, second_value[0]), (first_value[1]-1, second_value[1]),\n",
    "                                                 (first_value[2]-1, second_value[2]), (first_value[3]-1, second_value[3]),\n",
    "                                                 (first_value[4]-1, second_value[4]), (first_value[5]-1, second_value[5]),\n",
    "                                                 (first_value[6]-1, second_value[6]), (first_value[7]-1, second_value[7]),\n",
    "                                                 (first_value[8]-1, second_value[8]), (first_value[9]-1, second_value[9])])\n",
    "data.head(10)"
   ]
  },
  {
   "cell_type": "code",
   "execution_count": 70,
   "metadata": {},
   "outputs": [
    {
     "data": {
      "text/html": [
       "<div>\n",
       "<style scoped>\n",
       "    .dataframe tbody tr th:only-of-type {\n",
       "        vertical-align: middle;\n",
       "    }\n",
       "\n",
       "    .dataframe tbody tr th {\n",
       "        vertical-align: top;\n",
       "    }\n",
       "\n",
       "    .dataframe thead th {\n",
       "        text-align: right;\n",
       "    }\n",
       "</style>\n",
       "<table border=\"1\" class=\"dataframe\">\n",
       "  <thead>\n",
       "    <tr style=\"text-align: right;\">\n",
       "      <th></th>\n",
       "      <th>caseid</th>\n",
       "      <th>nbrnaliv</th>\n",
       "      <th>babysex</th>\n",
       "      <th>birthwgt_lb</th>\n",
       "      <th>birthwgt_oz</th>\n",
       "      <th>prglength</th>\n",
       "      <th>outcome</th>\n",
       "      <th>birthord</th>\n",
       "      <th>agepreg</th>\n",
       "      <th>finalwgt</th>\n",
       "    </tr>\n",
       "  </thead>\n",
       "  <tbody>\n",
       "    <tr>\n",
       "      <th>count</th>\n",
       "      <td>13593.000000</td>\n",
       "      <td>9148.000000</td>\n",
       "      <td>9144.000000</td>\n",
       "      <td>9144.000000</td>\n",
       "      <td>9144.000000</td>\n",
       "      <td>13593.000000</td>\n",
       "      <td>13593.000000</td>\n",
       "      <td>9148.000000</td>\n",
       "      <td>13241.000000</td>\n",
       "      <td>13593.000000</td>\n",
       "    </tr>\n",
       "    <tr>\n",
       "      <th>mean</th>\n",
       "      <td>6216.526595</td>\n",
       "      <td>1.025907</td>\n",
       "      <td>1.494532</td>\n",
       "      <td>6.653762</td>\n",
       "      <td>26.249453</td>\n",
       "      <td>29.531229</td>\n",
       "      <td>1.763996</td>\n",
       "      <td>1.824552</td>\n",
       "      <td>24.230949</td>\n",
       "      <td>8196.422280</td>\n",
       "    </tr>\n",
       "    <tr>\n",
       "      <th>std</th>\n",
       "      <td>3645.417341</td>\n",
       "      <td>0.252864</td>\n",
       "      <td>0.515295</td>\n",
       "      <td>1.588809</td>\n",
       "      <td>29.371073</td>\n",
       "      <td>13.802523</td>\n",
       "      <td>1.315930</td>\n",
       "      <td>1.037053</td>\n",
       "      <td>5.824302</td>\n",
       "      <td>9325.918114</td>\n",
       "    </tr>\n",
       "    <tr>\n",
       "      <th>min</th>\n",
       "      <td>1.000000</td>\n",
       "      <td>1.000000</td>\n",
       "      <td>1.000000</td>\n",
       "      <td>0.000000</td>\n",
       "      <td>0.000000</td>\n",
       "      <td>0.000000</td>\n",
       "      <td>1.000000</td>\n",
       "      <td>0.000000</td>\n",
       "      <td>10.000000</td>\n",
       "      <td>118.656790</td>\n",
       "    </tr>\n",
       "    <tr>\n",
       "      <th>25%</th>\n",
       "      <td>3022.000000</td>\n",
       "      <td>1.000000</td>\n",
       "      <td>1.000000</td>\n",
       "      <td>6.000000</td>\n",
       "      <td>7.000000</td>\n",
       "      <td>13.000000</td>\n",
       "      <td>1.000000</td>\n",
       "      <td>1.000000</td>\n",
       "      <td>20.000000</td>\n",
       "      <td>3841.375308</td>\n",
       "    </tr>\n",
       "    <tr>\n",
       "      <th>50%</th>\n",
       "      <td>6161.000000</td>\n",
       "      <td>1.000000</td>\n",
       "      <td>1.000000</td>\n",
       "      <td>7.000000</td>\n",
       "      <td>8.000000</td>\n",
       "      <td>39.000000</td>\n",
       "      <td>1.000000</td>\n",
       "      <td>2.000000</td>\n",
       "      <td>23.000000</td>\n",
       "      <td>6256.592133</td>\n",
       "    </tr>\n",
       "    <tr>\n",
       "      <th>75%</th>\n",
       "      <td>9423.000000</td>\n",
       "      <td>1.000000</td>\n",
       "      <td>2.000000</td>\n",
       "      <td>8.000000</td>\n",
       "      <td>61.000000</td>\n",
       "      <td>39.000000</td>\n",
       "      <td>2.000000</td>\n",
       "      <td>2.000000</td>\n",
       "      <td>28.000000</td>\n",
       "      <td>9432.360931</td>\n",
       "    </tr>\n",
       "    <tr>\n",
       "      <th>max</th>\n",
       "      <td>12571.000000</td>\n",
       "      <td>9.000000</td>\n",
       "      <td>9.000000</td>\n",
       "      <td>9.000000</td>\n",
       "      <td>99.000000</td>\n",
       "      <td>50.000000</td>\n",
       "      <td>6.000000</td>\n",
       "      <td>9.000000</td>\n",
       "      <td>44.000000</td>\n",
       "      <td>261879.953864</td>\n",
       "    </tr>\n",
       "  </tbody>\n",
       "</table>\n",
       "</div>"
      ],
      "text/plain": [
       "             caseid     nbrnaliv      babysex  birthwgt_lb  birthwgt_oz  \\\n",
       "count  13593.000000  9148.000000  9144.000000  9144.000000  9144.000000   \n",
       "mean    6216.526595     1.025907     1.494532     6.653762    26.249453   \n",
       "std     3645.417341     0.252864     0.515295     1.588809    29.371073   \n",
       "min        1.000000     1.000000     1.000000     0.000000     0.000000   \n",
       "25%     3022.000000     1.000000     1.000000     6.000000     7.000000   \n",
       "50%     6161.000000     1.000000     1.000000     7.000000     8.000000   \n",
       "75%     9423.000000     1.000000     2.000000     8.000000    61.000000   \n",
       "max    12571.000000     9.000000     9.000000     9.000000    99.000000   \n",
       "\n",
       "          prglength       outcome     birthord       agepreg       finalwgt  \n",
       "count  13593.000000  13593.000000  9148.000000  13241.000000   13593.000000  \n",
       "mean      29.531229      1.763996     1.824552     24.230949    8196.422280  \n",
       "std       13.802523      1.315930     1.037053      5.824302    9325.918114  \n",
       "min        0.000000      1.000000     0.000000     10.000000     118.656790  \n",
       "25%       13.000000      1.000000     1.000000     20.000000    3841.375308  \n",
       "50%       39.000000      1.000000     2.000000     23.000000    6256.592133  \n",
       "75%       39.000000      2.000000     2.000000     28.000000    9432.360931  \n",
       "max       50.000000      6.000000     9.000000     44.000000  261879.953864  "
      ]
     },
     "execution_count": 70,
     "metadata": {},
     "output_type": "execute_result"
    }
   ],
   "source": [
    "data.describe()"
   ]
  },
  {
   "cell_type": "code",
   "execution_count": 71,
   "metadata": {},
   "outputs": [
    {
     "data": {
      "text/plain": [
       "caseid           int64\n",
       "nbrnaliv       float64\n",
       "babysex        float64\n",
       "birthwgt_lb    float64\n",
       "birthwgt_oz    float64\n",
       "prglength        int64\n",
       "outcome          int64\n",
       "birthord       float64\n",
       "agepreg        float64\n",
       "finalwgt       float64\n",
       "dtype: object"
      ]
     },
     "execution_count": 71,
     "metadata": {},
     "output_type": "execute_result"
    }
   ],
   "source": [
    "data.dtypes"
   ]
  },
  {
   "cell_type": "code",
   "execution_count": 72,
   "metadata": {},
   "outputs": [
    {
     "data": {
      "text/plain": [
       "(13593, 10)"
      ]
     },
     "execution_count": 72,
     "metadata": {},
     "output_type": "execute_result"
    }
   ],
   "source": [
    "data.shape"
   ]
  },
  {
   "cell_type": "code",
   "execution_count": 73,
   "metadata": {},
   "outputs": [
    {
     "name": "stdout",
     "output_type": "stream",
     "text": [
      "<class 'pandas.core.frame.DataFrame'>\n",
      "RangeIndex: 13593 entries, 0 to 13592\n",
      "Data columns (total 10 columns):\n",
      " #   Column       Non-Null Count  Dtype  \n",
      "---  ------       --------------  -----  \n",
      " 0   caseid       13593 non-null  int64  \n",
      " 1   nbrnaliv     9148 non-null   float64\n",
      " 2   babysex      9144 non-null   float64\n",
      " 3   birthwgt_lb  9144 non-null   float64\n",
      " 4   birthwgt_oz  9144 non-null   float64\n",
      " 5   prglength    13593 non-null  int64  \n",
      " 6   outcome      13593 non-null  int64  \n",
      " 7   birthord     9148 non-null   float64\n",
      " 8   agepreg      13241 non-null  float64\n",
      " 9   finalwgt     13593 non-null  float64\n",
      "dtypes: float64(7), int64(3)\n",
      "memory usage: 1.0 MB\n"
     ]
    }
   ],
   "source": [
    "data.info()"
   ]
  },
  {
   "cell_type": "code",
   "execution_count": 74,
   "metadata": {},
   "outputs": [
    {
     "name": "stdout",
     "output_type": "stream",
     "text": [
      "Number of live births:  9148\n"
     ]
    }
   ],
   "source": [
    "#Count the number of live births\n",
    "live_births = data[data['outcome'] == 1]\n",
    "print('Number of live births: ', live_births.shape[0])"
   ]
  },
  {
   "cell_type": "code",
   "execution_count": 75,
   "metadata": {},
   "outputs": [
    {
     "data": {
      "text/plain": [
       "1    9148\n",
       "4    1921\n",
       "2    1862\n",
       "6     352\n",
       "5     190\n",
       "3     120\n",
       "Name: outcome, dtype: int64"
      ]
     },
     "execution_count": 75,
     "metadata": {},
     "output_type": "execute_result"
    }
   ],
   "source": [
    "data['outcome'].value_counts()"
   ]
  },
  {
   "cell_type": "code",
   "execution_count": 82,
   "metadata": {},
   "outputs": [
    {
     "name": "stdout",
     "output_type": "stream",
     "text": [
      "First babies:  4413\n",
      "Others:  4735\n"
     ]
    }
   ],
   "source": [
    "#Modify the loop to partition the çive birth records into two groups, one for first babies and one for the others\n",
    "first_babies = live_births[live_births['birthord'] == 1]\n",
    "others = live_births[live_births['birthord'] != 1]\n",
    "print('First babies: ', first_babies.shape[0])\n",
    "print('Others: ', others.shape[0])"
   ]
  },
  {
   "cell_type": "code",
   "execution_count": 83,
   "metadata": {},
   "outputs": [
    {
     "name": "stdout",
     "output_type": "stream",
     "text": [
      "Average pregnancy length (in weeks) for first babies 38.6\n",
      "Average pregnancy length (in weeks) for non first babies 38.52\n",
      "Difference between the groups:  0.08\n"
     ]
    }
   ],
   "source": [
    "#Compute the average pregnancy length (in weeks) for first babies and others\n",
    "print('Average pregnancy length (in weeks) for first babies', round(first_babies['prglength'].mean(), 2))\n",
    "print('Average pregnancy length (in weeks) for non first babies', round(others['prglength'].mean(), 2))\n",
    "\n",
    "print('Difference between the groups: ', round(first_babies['prglength'].mean()- others['prglength'].mean(), 2))"
   ]
  },
  {
   "cell_type": "markdown",
   "metadata": {},
   "source": [
    "Significance: \n",
    "0.08 weeks = 13 hours and 44 minutes.\n",
    "We found out that first babies are born about 13 hours later, on average. A difference like that is called an apparent effect;\n",
    "that is, there might be something going on, but we are not yet sure. There are several questions we still want to ask:\n",
    "    - Can we be more precise about how the groups differ? What about other summary statistics, like median and variance?\n",
    "    - Is it possible that the difference we saw could occur by chance, even if the groups we compared are actually the same? If so, we would conclude that the effect was not statiscally significant.\n",
    "    - Is it possible that the apparent effect is due to selection bias or some other error in the experimental setup? If so, we might conclude that the effect is an artifact; that is, something we created (by accident) rather than found."
   ]
  }
 ],
 "metadata": {
  "kernelspec": {
   "display_name": "Python 3",
   "language": "python",
   "name": "python3"
  },
  "language_info": {
   "codemirror_mode": {
    "name": "ipython",
    "version": 3
   },
   "file_extension": ".py",
   "mimetype": "text/x-python",
   "name": "python",
   "nbconvert_exporter": "python",
   "pygments_lexer": "ipython3",
   "version": "3.7.6"
  }
 },
 "nbformat": 4,
 "nbformat_minor": 4
}
