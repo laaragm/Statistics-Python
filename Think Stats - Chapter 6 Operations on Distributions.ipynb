{
 "cells": [
  {
   "cell_type": "markdown",
   "metadata": {},
   "source": [
    "Think Stats book - Chapter 6: Operations on Distributions"
   ]
  },
  {
   "cell_type": "code",
   "execution_count": 138,
   "metadata": {},
   "outputs": [],
   "source": [
    "import math\n",
    "from scipy import stats\n",
    "import pandas as pd\n",
    "import numpy as np\n",
    "import matplotlib.pyplot as plt\n",
    "import seaborn as sns\n",
    "import random\n",
    "from scipy.stats import norm, binom, skew"
   ]
  },
  {
   "cell_type": "markdown",
   "metadata": {},
   "source": [
    "Skewness is a statistic that measures the asymmetry of a distribution. Negative skewness indicates that a distribution extends farther to the left than the right. Positive skewness indicates the opposite. Since it's sensitive to outliers, it's usually not a good idea to compute skewness. Besides, there are another ways to evaluate the asymmetry of a distribution such as by looking at the relationship between the mean and the median. Pearson's median skewness coefficient is an alternative way to compute the skewness."
   ]
  },
  {
   "cell_type": "code",
   "execution_count": 102,
   "metadata": {},
   "outputs": [
    {
     "data": {
      "text/html": [
       "<div>\n",
       "<style scoped>\n",
       "    .dataframe tbody tr th:only-of-type {\n",
       "        vertical-align: middle;\n",
       "    }\n",
       "\n",
       "    .dataframe tbody tr th {\n",
       "        vertical-align: top;\n",
       "    }\n",
       "\n",
       "    .dataframe thead th {\n",
       "        text-align: right;\n",
       "    }\n",
       "</style>\n",
       "<table border=\"1\" class=\"dataframe\">\n",
       "  <thead>\n",
       "    <tr style=\"text-align: right;\">\n",
       "      <th></th>\n",
       "      <th>caseid</th>\n",
       "      <th>nbrnaliv</th>\n",
       "      <th>babysex</th>\n",
       "      <th>birthwgt_lb</th>\n",
       "      <th>birthwgt_oz</th>\n",
       "      <th>prglength</th>\n",
       "      <th>outcome</th>\n",
       "      <th>birthord</th>\n",
       "      <th>agepreg</th>\n",
       "      <th>finalwgt</th>\n",
       "    </tr>\n",
       "  </thead>\n",
       "  <tbody>\n",
       "    <tr>\n",
       "      <th>0</th>\n",
       "      <td>1</td>\n",
       "      <td>1.0</td>\n",
       "      <td>1.0</td>\n",
       "      <td>8.0</td>\n",
       "      <td>13.0</td>\n",
       "      <td>39</td>\n",
       "      <td>1</td>\n",
       "      <td>1.0</td>\n",
       "      <td>33.0</td>\n",
       "      <td>6448.271112</td>\n",
       "    </tr>\n",
       "    <tr>\n",
       "      <th>1</th>\n",
       "      <td>1</td>\n",
       "      <td>1.0</td>\n",
       "      <td>2.0</td>\n",
       "      <td>7.0</td>\n",
       "      <td>14.0</td>\n",
       "      <td>39</td>\n",
       "      <td>1</td>\n",
       "      <td>2.0</td>\n",
       "      <td>39.0</td>\n",
       "      <td>6448.271112</td>\n",
       "    </tr>\n",
       "    <tr>\n",
       "      <th>2</th>\n",
       "      <td>2</td>\n",
       "      <td>3.0</td>\n",
       "      <td>1.0</td>\n",
       "      <td>9.0</td>\n",
       "      <td>2.0</td>\n",
       "      <td>39</td>\n",
       "      <td>1</td>\n",
       "      <td>1.0</td>\n",
       "      <td>14.0</td>\n",
       "      <td>12999.542264</td>\n",
       "    </tr>\n",
       "    <tr>\n",
       "      <th>3</th>\n",
       "      <td>2</td>\n",
       "      <td>1.0</td>\n",
       "      <td>2.0</td>\n",
       "      <td>7.0</td>\n",
       "      <td>0.0</td>\n",
       "      <td>39</td>\n",
       "      <td>1</td>\n",
       "      <td>2.0</td>\n",
       "      <td>17.0</td>\n",
       "      <td>12999.542264</td>\n",
       "    </tr>\n",
       "    <tr>\n",
       "      <th>4</th>\n",
       "      <td>2</td>\n",
       "      <td>1.0</td>\n",
       "      <td>2.0</td>\n",
       "      <td>6.0</td>\n",
       "      <td>3.0</td>\n",
       "      <td>39</td>\n",
       "      <td>1</td>\n",
       "      <td>3.0</td>\n",
       "      <td>18.0</td>\n",
       "      <td>12999.542264</td>\n",
       "    </tr>\n",
       "  </tbody>\n",
       "</table>\n",
       "</div>"
      ],
      "text/plain": [
       "   caseid  nbrnaliv  babysex  birthwgt_lb  birthwgt_oz  prglength  outcome  \\\n",
       "0       1       1.0      1.0          8.0         13.0         39        1   \n",
       "1       1       1.0      2.0          7.0         14.0         39        1   \n",
       "2       2       3.0      1.0          9.0          2.0         39        1   \n",
       "3       2       1.0      2.0          7.0          0.0         39        1   \n",
       "4       2       1.0      2.0          6.0          3.0         39        1   \n",
       "\n",
       "   birthord  agepreg      finalwgt  \n",
       "0       1.0     33.0   6448.271112  \n",
       "1       2.0     39.0   6448.271112  \n",
       "2       1.0     14.0  12999.542264  \n",
       "3       2.0     17.0  12999.542264  \n",
       "4       3.0     18.0  12999.542264  "
      ]
     },
     "execution_count": 102,
     "metadata": {},
     "output_type": "execute_result"
    }
   ],
   "source": [
    "#Compute the skewness for the distributions of pregnancy length and birth weight.\n",
    "def skewness(x):\n",
    "    x = np.array(x)\n",
    "    mean = np.mean(x)\n",
    "    variance = np.mean(np.power((x - mean), 2)) #also known as mean squared deviation; np.var(x) \n",
    "    mean_cubed_deviation = np.mean(np.power((x - mean), 3))\n",
    "    skewness = mean_cubed_deviation / math.pow(variance, 1.5)\n",
    "    \n",
    "    return skewness\n",
    "\n",
    "def pearson_skewness(x):\n",
    "    x = np.array(x)\n",
    "    mean = np.mean(x)\n",
    "    median = np.median(x)\n",
    "    std = np.std(x)\n",
    "    pearson_skewness = 3 * (mean - median) / std\n",
    "    \n",
    "    return pearson_skewness\n",
    "\n",
    "    \n",
    "data = pd.read_fwf(\"2002FemPreg.dat\", names=[\"caseid\", \"nbrnaliv\", \"babysex\", \"birthwgt_lb\",\"birthwgt_oz\", \n",
    "                                             \"prglength\", \"outcome\", \"birthord\", \"agepreg\", \"finalwgt\"],\n",
    "                                      colspecs=[(0, 12), (21, 22), (55, 56), (57, 58), (58, 60),\n",
    "                                                (274, 276), (276, 277), (278, 279), (283, 285), (422, 439)])\n",
    "data.head()"
   ]
  },
  {
   "cell_type": "code",
   "execution_count": 103,
   "metadata": {},
   "outputs": [
    {
     "name": "stdout",
     "output_type": "stream",
     "text": [
      "-1.3179155263393318\n",
      "-1.3179155263393318\n",
      "-0.3824623067640262\n"
     ]
    }
   ],
   "source": [
    "live_births = data[data[\"outcome\"] == 1]\n",
    "birth_weight = (live_births['birthwgt_lb']*16 + live_births['birthwgt_oz']).dropna()\n",
    "\n",
    "print(skew(birth_weight))\n",
    "print(skewness(birth_weight))\n",
    "print(pearson_skewness(birth_weight))"
   ]
  },
  {
   "cell_type": "code",
   "execution_count": 104,
   "metadata": {},
   "outputs": [
    {
     "name": "stdout",
     "output_type": "stream",
     "text": [
      "-2.855300690938406\n",
      "-2.8553006909384067\n",
      "-0.48787019646027696\n"
     ]
    }
   ],
   "source": [
    "pregnancy_length = live_births[\"prglength\"].dropna()\n",
    "\n",
    "print(skew(pregnancy_length))\n",
    "print(skewness(pregnancy_length))\n",
    "print(pearson_skewness(pregnancy_length))"
   ]
  },
  {
   "cell_type": "markdown",
   "metadata": {},
   "source": [
    "Random Variables: A random variable represents a process that generates a random number. When you see a random variable, you should think \"a value selected from a distribution\". You may think of a random variable as an object that provides a method(let's call it \"generate\") that uses a random process to generate values."
   ]
  },
  {
   "cell_type": "markdown",
   "metadata": {},
   "source": [
    "CDF_X(x) = p(X <= x), the CDF of the random variable X, evaluated for a particular value x, is defined as the probability that a value generated by the random process X is less than or equal to x."
   ]
  },
  {
   "cell_type": "markdown",
   "metadata": {},
   "source": [
    "Example 6-4. Write a definition for a class that represents a random variable with a Gumbel distribution. The Gumbel distribution is used to model the distribution of the maximum (or the minimum) of a number of samples of various distributions. The potential applicability of the Gumbel distribution to represent the distribution of maxima relates to extreme value theory, which indicates that it is likely to be useful if the distribution of the underlying sample data is of the normal or exponential type. "
   ]
  },
  {
   "cell_type": "code",
   "execution_count": 120,
   "metadata": {},
   "outputs": [
    {
     "name": "stdout",
     "output_type": "stream",
     "text": [
      "0.7720881098219216\n",
      "0.48377712963662145\n"
     ]
    }
   ],
   "source": [
    "#Q(p) = mu - beta*ln(-ln(p)), where p is drawn from the uniform(family of symmetric probability distributions) \n",
    "#distribution on the inverval (0,1)\n",
    "\n",
    "class RandomVariable(object):\n",
    "    \"\"\" Parent class of all random variables \"\"\"\n",
    "    \n",
    "class Exponential(RandomVariable):\n",
    "    def __init__(self, lam):\n",
    "        self.lam = lam\n",
    "    def generate(self):\n",
    "        return np.random.exponential(self.lam)\n",
    "\n",
    "class Gumbel(RandomVariable):\n",
    "    def __init__(self, mu, beta):\n",
    "        self.mu = mu\n",
    "        self.beta = beta\n",
    "    def generate(self):\n",
    "        return self.mu - (self.beta * math.log(-math.log(np.random.random(), math.e), math.e))\n",
    "\n",
    "    \n",
    "gumbel = Gumbel(0.01, 1)\n",
    "print(gumbel.generate())\n",
    "exponential = Exponential(0.7)\n",
    "print(exponential.generate())"
   ]
  },
  {
   "cell_type": "markdown",
   "metadata": {},
   "source": [
    "PDFs: The derivative of a CDF is called a Probability Density Function(PDF). Remember that PDF doesn't represent probability, it represents probability density(or probability per unit of x). So, in order to get a probability mass you have to integrate over x.    "
   ]
  },
  {
   "cell_type": "markdown",
   "metadata": {},
   "source": [
    "Example 6-6. In the BRFSS, the distribution of heights is roughly normal with parameters mean = 178cm and variance = 59.4cm for men, and mean = 163cm and variance = 52.8cm for women. In order to join Blue Man Group, you have to be male between 155.4cm and 189.0cm. What percentage of the U.S male population is in this range?"
   ]
  },
  {
   "cell_type": "code",
   "execution_count": 143,
   "metadata": {},
   "outputs": [
    {
     "name": "stdout",
     "output_type": "stream",
     "text": [
      "0.9215637391234368\n"
     ]
    }
   ],
   "source": [
    "men_mean = 178.0\n",
    "men_variance = 59.4\n",
    "max_from_range = 189.0\n",
    "min_from_range = 155.4\n",
    "\n",
    "norm = stats.norm(loc=men_mean, scale=math.sqrt(men_variance))\n",
    "probability = norm.cdf(max_from_range) - norm.cdf(min_from_range)\n",
    "print(probability)"
   ]
  },
  {
   "cell_type": "markdown",
   "metadata": {},
   "source": [
    "Suppose we have two random variables, X and Y, with distributions CDF_X and CDF_Y. A random variable Z is defined as Z = X+Y. The convolution of probability distributions arises in probability theory and statistics as the operation in terms of probability distributions that corresponds to the addition of independent random variables and, by extension, to forming linear combinations of random variables. The operation here is a special case of convolution in the context of probability distributions."
   ]
  },
  {
   "cell_type": "markdown",
   "metadata": {},
   "source": [
    "Normal Distributions are amenable to analysis, specially because they are closed under linear transformation and convolution. "
   ]
  },
  {
   "cell_type": "markdown",
   "metadata": {},
   "source": [
    "If we add values drawn from normal distribututions, the distribution of the sum is normal. If we add values drawn from other distributions, the sum doesn't generally have one of the continuous distributions we have seen."
   ]
  },
  {
   "cell_type": "markdown",
   "metadata": {},
   "source": [
    "Central Limit Theorem: If we add up a large number of values from almost any distribution, the distribution of the sum converges to normal. Caveats: the values have to be drawn independently, the values have to come from the same distribution(although this requirement can be relaxed), the values have to be drawn from a distribution with finite mean and variance(so most Pareto distributions are out), the number of values you need before you see convergence depends on the skewness of the distribution. The Central Limit Theorem explains the prevalence of normal distributions in the real world."
   ]
  },
  {
   "cell_type": "markdown",
   "metadata": {},
   "source": [
    "The Distribution Framework: How does CDF, PMF and PDF relate to each other?"
   ]
  },
  {
   "cell_type": "markdown",
   "metadata": {},
   "source": [
    "CDF -> differentiate -> PDF (both are continuous; pdf is non-cumulative and cdf is cumulative)"
   ]
  },
  {
   "cell_type": "markdown",
   "metadata": {},
   "source": [
    "PDF -> integrate -> CDF"
   ]
  },
  {
   "cell_type": "markdown",
   "metadata": {},
   "source": [
    "PDF -> bin -> PMF (both are non-cumulative; pdf is continuous and pmf is discrete)"
   ]
  },
  {
   "cell_type": "markdown",
   "metadata": {},
   "source": [
    "PMF -> sum -> CDF (both are discrete - remember CDF might be either discrete or continuous; cdf is cumulative and pmf is non-cumulative)"
   ]
  },
  {
   "cell_type": "markdown",
   "metadata": {},
   "source": [
    "CDF(discrete) -> diff -> PMF"
   ]
  },
  {
   "cell_type": "markdown",
   "metadata": {},
   "source": [
    "CDF(discrete) -> smooth -> CDF(continuous) "
   ]
  }
 ],
 "metadata": {
  "kernelspec": {
   "display_name": "Python 3",
   "language": "python",
   "name": "python3"
  },
  "language_info": {
   "codemirror_mode": {
    "name": "ipython",
    "version": 3
   },
   "file_extension": ".py",
   "mimetype": "text/x-python",
   "name": "python",
   "nbconvert_exporter": "python",
   "pygments_lexer": "ipython3",
   "version": "3.7.6"
  }
 },
 "nbformat": 4,
 "nbformat_minor": 4
}
