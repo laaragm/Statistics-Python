{
 "cells": [
  {
   "cell_type": "markdown",
   "metadata": {},
   "source": [
    "Think Stats book - Chapter 7: Hypothesis Testing"
   ]
  },
  {
   "cell_type": "markdown",
   "metadata": {},
   "source": [
    "Hypothesis Testing: The underlying logic is similar to a proof by contradiction. For example, to test a hypothesis like, \"This effect is real\", we assume, temporarily, that it's not and that's the Null Hypothesis. Then we compute the probability of the apparent effect, and that's the p-value. Finally, in order to verify whether the null hypothesis is true, we analyze the p-value, and if it's too low we can conclude that the null hypothesis is unlikely to be true."
   ]
  },
  {
   "cell_type": "markdown",
   "metadata": {},
   "source": [
    "Null Hypothesis: A model of the sistem based on the assumption that the apparent effect was actually due to chance."
   ]
  },
  {
   "cell_type": "markdown",
   "metadata": {},
   "source": [
    "p-value: The probability of the apparent effect under the null hypothesis"
   ]
  },
  {
   "cell_type": "markdown",
   "metadata": {},
   "source": [
    "Interpretation: Based on the p-value, we conclude that the effect is either statistically significant, or not"
   ]
  },
  {
   "cell_type": "code",
   "execution_count": 48,
   "metadata": {},
   "outputs": [],
   "source": [
    "import warnings\n",
    "import pandas as pd\n",
    "import numpy as np\n",
    "import matplotlib.pyplot as plt\n",
    "import seaborn as sns\n",
    "from scipy.stats import norm, chisquare\n",
    "\n",
    "warnings.filterwarnings('ignore')\n",
    "\n",
    "\n",
    "np.random.seed(42)"
   ]
  },
  {
   "cell_type": "code",
   "execution_count": 3,
   "metadata": {},
   "outputs": [
    {
     "data": {
      "text/html": [
       "<div>\n",
       "<style scoped>\n",
       "    .dataframe tbody tr th:only-of-type {\n",
       "        vertical-align: middle;\n",
       "    }\n",
       "\n",
       "    .dataframe tbody tr th {\n",
       "        vertical-align: top;\n",
       "    }\n",
       "\n",
       "    .dataframe thead th {\n",
       "        text-align: right;\n",
       "    }\n",
       "</style>\n",
       "<table border=\"1\" class=\"dataframe\">\n",
       "  <thead>\n",
       "    <tr style=\"text-align: right;\">\n",
       "      <th></th>\n",
       "      <th>caseid</th>\n",
       "      <th>nbrnaliv</th>\n",
       "      <th>babysex</th>\n",
       "      <th>birthwgt_lb</th>\n",
       "      <th>birthwgt_oz</th>\n",
       "      <th>prglength</th>\n",
       "      <th>outcome</th>\n",
       "      <th>birthord</th>\n",
       "      <th>agepreg</th>\n",
       "      <th>finalwgt</th>\n",
       "    </tr>\n",
       "  </thead>\n",
       "  <tbody>\n",
       "    <tr>\n",
       "      <th>0</th>\n",
       "      <td>1</td>\n",
       "      <td>1.0</td>\n",
       "      <td>1.0</td>\n",
       "      <td>8.0</td>\n",
       "      <td>13.0</td>\n",
       "      <td>39</td>\n",
       "      <td>1</td>\n",
       "      <td>1.0</td>\n",
       "      <td>33.0</td>\n",
       "      <td>6448.271112</td>\n",
       "    </tr>\n",
       "    <tr>\n",
       "      <th>1</th>\n",
       "      <td>1</td>\n",
       "      <td>1.0</td>\n",
       "      <td>2.0</td>\n",
       "      <td>7.0</td>\n",
       "      <td>14.0</td>\n",
       "      <td>39</td>\n",
       "      <td>1</td>\n",
       "      <td>2.0</td>\n",
       "      <td>39.0</td>\n",
       "      <td>6448.271112</td>\n",
       "    </tr>\n",
       "    <tr>\n",
       "      <th>2</th>\n",
       "      <td>2</td>\n",
       "      <td>3.0</td>\n",
       "      <td>1.0</td>\n",
       "      <td>9.0</td>\n",
       "      <td>2.0</td>\n",
       "      <td>39</td>\n",
       "      <td>1</td>\n",
       "      <td>1.0</td>\n",
       "      <td>14.0</td>\n",
       "      <td>12999.542264</td>\n",
       "    </tr>\n",
       "    <tr>\n",
       "      <th>3</th>\n",
       "      <td>2</td>\n",
       "      <td>1.0</td>\n",
       "      <td>2.0</td>\n",
       "      <td>7.0</td>\n",
       "      <td>0.0</td>\n",
       "      <td>39</td>\n",
       "      <td>1</td>\n",
       "      <td>2.0</td>\n",
       "      <td>17.0</td>\n",
       "      <td>12999.542264</td>\n",
       "    </tr>\n",
       "    <tr>\n",
       "      <th>4</th>\n",
       "      <td>2</td>\n",
       "      <td>1.0</td>\n",
       "      <td>2.0</td>\n",
       "      <td>6.0</td>\n",
       "      <td>3.0</td>\n",
       "      <td>39</td>\n",
       "      <td>1</td>\n",
       "      <td>3.0</td>\n",
       "      <td>18.0</td>\n",
       "      <td>12999.542264</td>\n",
       "    </tr>\n",
       "  </tbody>\n",
       "</table>\n",
       "</div>"
      ],
      "text/plain": [
       "   caseid  nbrnaliv  babysex  birthwgt_lb  birthwgt_oz  prglength  outcome  \\\n",
       "0       1       1.0      1.0          8.0         13.0         39        1   \n",
       "1       1       1.0      2.0          7.0         14.0         39        1   \n",
       "2       2       3.0      1.0          9.0          2.0         39        1   \n",
       "3       2       1.0      2.0          7.0          0.0         39        1   \n",
       "4       2       1.0      2.0          6.0          3.0         39        1   \n",
       "\n",
       "   birthord  agepreg      finalwgt  \n",
       "0       1.0     33.0   6448.271112  \n",
       "1       2.0     39.0   6448.271112  \n",
       "2       1.0     14.0  12999.542264  \n",
       "3       2.0     17.0  12999.542264  \n",
       "4       3.0     18.0  12999.542264  "
      ]
     },
     "execution_count": 3,
     "metadata": {},
     "output_type": "execute_result"
    }
   ],
   "source": [
    "data = pd.read_fwf(\"2002FemPreg.dat\", names=[\"caseid\", \"nbrnaliv\", \"babysex\", \"birthwgt_lb\", \"birthwgt_oz\",\n",
    "                                             \"prglength\", \"outcome\", \"birthord\", \"agepreg\", \"finalwgt\"],\n",
    "                                     colspecs=[(0, 12), (21, 22), (55, 56), (57, 58), (58, 60),\n",
    "                                            (274, 276), (276, 277), (278, 279), (283, 285), (422, 439)])\n",
    "data.head()"
   ]
  },
  {
   "cell_type": "code",
   "execution_count": 4,
   "metadata": {},
   "outputs": [
    {
     "data": {
      "text/plain": [
       "(13593, 10)"
      ]
     },
     "execution_count": 4,
     "metadata": {},
     "output_type": "execute_result"
    }
   ],
   "source": [
    "data.shape"
   ]
  },
  {
   "cell_type": "code",
   "execution_count": 5,
   "metadata": {},
   "outputs": [
    {
     "data": {
      "text/plain": [
       "caseid           int64\n",
       "nbrnaliv       float64\n",
       "babysex        float64\n",
       "birthwgt_lb    float64\n",
       "birthwgt_oz    float64\n",
       "prglength        int64\n",
       "outcome          int64\n",
       "birthord       float64\n",
       "agepreg        float64\n",
       "finalwgt       float64\n",
       "dtype: object"
      ]
     },
     "execution_count": 5,
     "metadata": {},
     "output_type": "execute_result"
    }
   ],
   "source": [
    "data.dtypes"
   ]
  },
  {
   "cell_type": "code",
   "execution_count": 6,
   "metadata": {},
   "outputs": [
    {
     "name": "stdout",
     "output_type": "stream",
     "text": [
      "<class 'pandas.core.frame.DataFrame'>\n",
      "RangeIndex: 13593 entries, 0 to 13592\n",
      "Data columns (total 10 columns):\n",
      " #   Column       Non-Null Count  Dtype  \n",
      "---  ------       --------------  -----  \n",
      " 0   caseid       13593 non-null  int64  \n",
      " 1   nbrnaliv     9148 non-null   float64\n",
      " 2   babysex      9144 non-null   float64\n",
      " 3   birthwgt_lb  9144 non-null   float64\n",
      " 4   birthwgt_oz  9087 non-null   float64\n",
      " 5   prglength    13593 non-null  int64  \n",
      " 6   outcome      13593 non-null  int64  \n",
      " 7   birthord     9148 non-null   float64\n",
      " 8   agepreg      13241 non-null  float64\n",
      " 9   finalwgt     13593 non-null  float64\n",
      "dtypes: float64(7), int64(3)\n",
      "memory usage: 1.0 MB\n"
     ]
    }
   ],
   "source": [
    "data.info()"
   ]
  },
  {
   "cell_type": "markdown",
   "metadata": {},
   "source": [
    "Example 7-1. In the NSFG dataset, the difference in mean weight for first babies is 2.0 ounces. Compute the p-value of this difference. Hint: For this kind of resampling, it's important to sample with replacement."
   ]
  },
  {
   "cell_type": "code",
   "execution_count": 34,
   "metadata": {},
   "outputs": [
    {
     "data": {
      "image/png": "[encoded data removed]",
      "text/plain": [
       "<Figure size 432x288 with 1 Axes>"
      ]
     },
     "metadata": {
      "needs_background": "light"
     },
     "output_type": "display_data"
    },
    {
     "name": "stdout",
     "output_type": "stream",
     "text": [
      "0.001\n"
     ]
    }
   ],
   "source": [
    "def compute_difference(data1, data2, replace):\n",
    "    sample1 = np.random.choice(data1, size=data1.shape[0], replace=replace)\n",
    "    sample2 = np.random.choice(data2, size=data2.shape[0], replace=replace)\n",
    "    \n",
    "    return np.mean(sample1) - np.mean(sample2)\n",
    "\n",
    "\n",
    "live_births = data[data['outcome'] == 1] \n",
    "live_births['birthwgt'] = ((16 * live_births['birthwgt_lb']) + live_births['birthwgt_oz'])\n",
    "pooled = live_births['birthwgt'].dropna()\n",
    "first_babies = live_births[live_births['birthord'] == 1]['birthwgt'].dropna()\n",
    "others = live_births[live_births['birthord'] != 1]['birthwgt'].dropna()\n",
    "\n",
    "pooled_mean = np.mean(pooled)\n",
    "pooled_std = np.std(pooled)\n",
    "first_babies_len = first_babies.shape[0]\n",
    "others_len = others.shape[0]\n",
    "\n",
    "first_babies_sample = np.random.normal(pooled_mean, pooled_std, first_babies_len)\n",
    "others_sample = np.random.normal(pooled_mean, pooled_std, others_len)\n",
    "\n",
    "differences = np.array([compute_difference(first_babies_sample, others_sample, True) for x in range(1000)])\n",
    "\n",
    "sns.distplot(differences, label=\"CDF of Differences in Mean\", bins=1000, norm_hist=True, hist_kws={'cumulative': True})\n",
    "plt.xlabel('Difference in mean(weeks)')\n",
    "plt.ylabel('CDF(x)')\n",
    "plt.title('Resampled Differences')\n",
    "plt.show()\n",
    "\n",
    "#The p-value is the fraction of differences sample where the value is greater than or equal to delta\n",
    "delta = 2.0 #since the exercise told us\n",
    "p_value = (np.where(differences >= delta)[0].shape[0]) / differences.shape[0]\n",
    "print(p_value)"
   ]
  },
  {
   "cell_type": "markdown",
   "metadata": {},
   "source": [
    "A false positive is when we accept a hypothesis that is actually false (we consider effect significant when it was actually due to chance). A false negative is when we reject a hypothesis that is actually true (we attribute an effect to chance when it was actually real)."
   ]
  },
  {
   "cell_type": "markdown",
   "metadata": {},
   "source": [
    "The most common approach to hypothesis testing is to choose a threshold (alfa) for the p-value and to accept as significant any effect with a p-value less than alfa. A common choice for alfa is 5%. Alfa is the false positive, so if you want to decrease the chance of a false positive just decrease the threshold. If the threshold is 3%, then the chance of a false positive is 3%. On the other hand, by decreasing the threshold the chance of rejecting a valid hypothesis is increased."
   ]
  },
  {
   "cell_type": "markdown",
   "metadata": {},
   "source": [
    "There are several ways to interpret the result of a hypothesis test: Classical(if a p-value if less than alfa, you can say that the effect is statistically significant, but you cannot conclude that it's real), Practical(the lower the p-value, the higher their confidence in this conclusion), Bayesian(considering posterior distributions)."
   ]
  },
  {
   "cell_type": "markdown",
   "metadata": {},
   "source": [
    "Cross-validation uses one dataset to formulate the hypothesis and another to test it. One is called training set and the other is the test set."
   ]
  },
  {
   "cell_type": "markdown",
   "metadata": {},
   "source": [
    "A chi-square goodness of fit test determines if a sample data matches a population. A chi-square test for independence compares two variables in a contingency table to see if they are related. In a more general sense, it tests to see whether distributions of categorical variables differ from each another."
   ]
  },
  {
   "cell_type": "code",
   "execution_count": 49,
   "metadata": {},
   "outputs": [
    {
     "data": {
      "text/plain": [
       "Power_divergenceResult(statistic=3.5, pvalue=0.6233876277495822)"
      ]
     },
     "execution_count": 49,
     "metadata": {},
     "output_type": "execute_result"
    }
   ],
   "source": [
    "chisquare([16, 18, 16, 14, 12, 12], f_exp=[16, 16, 16, 16, 16, 8])"
   ]
  },
  {
   "cell_type": "code",
   "execution_count": 50,
   "metadata": {},
   "outputs": [
    {
     "data": {
      "text/plain": [
       "Power_divergenceResult(statistic=2.0, pvalue=0.8491450360846096)"
      ]
     },
     "execution_count": 50,
     "metadata": {},
     "output_type": "execute_result"
    }
   ],
   "source": [
    "chisquare([16, 18, 16, 14, 12, 12])"
   ]
  }
 ],
 "metadata": {
  "kernelspec": {
   "display_name": "Python 3",
   "language": "python",
   "name": "python3"
  },
  "language_info": {
   "codemirror_mode": {
    "name": "ipython",
    "version": 3
   },
   "file_extension": ".py",
   "mimetype": "text/x-python",
   "name": "python",
   "nbconvert_exporter": "python",
   "pygments_lexer": "ipython3",
   "version": "3.7.6"
  }
 },
 "nbformat": 4,
 "nbformat_minor": 4
}
