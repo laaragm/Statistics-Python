{
 "cells": [
  {
   "cell_type": "raw",
   "metadata": {},
   "source": [
    "Think Stats book - Chapter 2: Descriptive Statistics\n",
    "http://greenteapress.com/thinkstats/survey.py\n",
    "http://greenteapress.com/thinkstats/thinkstats.py\n",
    "http://greenteapress.com/thinkstats/Pmf.py\n",
    "\n",
    "- caseid: id of the respondent\n",
    "- prglength: pregnancy duration (in weeks)\n",
    "- outcome: number 1 indicates live birth\n",
    "- birthord: number 1 indicates first child\n",
    "- finalwgt: Number of people in US population this respondent represents"
   ]
  },
  {
   "cell_type": "code",
   "execution_count": 2,
   "metadata": {},
   "outputs": [],
   "source": [
    "import pandas as pd\n",
    "import numpy as np\n",
    "import seaborn as sns\n",
    "import matplotlib.pyplot as plt"
   ]
  },
  {
   "cell_type": "code",
   "execution_count": 8,
   "metadata": {},
   "outputs": [
    {
     "data": {
      "text/html": [
       "<div>\n",
       "<style scoped>\n",
       "    .dataframe tbody tr th:only-of-type {\n",
       "        vertical-align: middle;\n",
       "    }\n",
       "\n",
       "    .dataframe tbody tr th {\n",
       "        vertical-align: top;\n",
       "    }\n",
       "\n",
       "    .dataframe thead th {\n",
       "        text-align: right;\n",
       "    }\n",
       "</style>\n",
       "<table border=\"1\" class=\"dataframe\">\n",
       "  <thead>\n",
       "    <tr style=\"text-align: right;\">\n",
       "      <th></th>\n",
       "      <th>caseid</th>\n",
       "      <th>nbrnaliv</th>\n",
       "      <th>babysex</th>\n",
       "      <th>birthwgt_lb</th>\n",
       "      <th>birthwgt_oz</th>\n",
       "      <th>prglength</th>\n",
       "      <th>outcome</th>\n",
       "      <th>birthord</th>\n",
       "      <th>agepreg</th>\n",
       "      <th>finalwgt</th>\n",
       "    </tr>\n",
       "  </thead>\n",
       "  <tbody>\n",
       "    <tr>\n",
       "      <th>0</th>\n",
       "      <td>1</td>\n",
       "      <td>1.0</td>\n",
       "      <td>1.0</td>\n",
       "      <td>8.0</td>\n",
       "      <td>81.0</td>\n",
       "      <td>39</td>\n",
       "      <td>1</td>\n",
       "      <td>1.0</td>\n",
       "      <td>33.0</td>\n",
       "      <td>6448.271112</td>\n",
       "    </tr>\n",
       "    <tr>\n",
       "      <th>1</th>\n",
       "      <td>1</td>\n",
       "      <td>1.0</td>\n",
       "      <td>2.0</td>\n",
       "      <td>7.0</td>\n",
       "      <td>71.0</td>\n",
       "      <td>39</td>\n",
       "      <td>1</td>\n",
       "      <td>2.0</td>\n",
       "      <td>39.0</td>\n",
       "      <td>6448.271112</td>\n",
       "    </tr>\n",
       "    <tr>\n",
       "      <th>2</th>\n",
       "      <td>2</td>\n",
       "      <td>3.0</td>\n",
       "      <td>1.0</td>\n",
       "      <td>9.0</td>\n",
       "      <td>9.0</td>\n",
       "      <td>39</td>\n",
       "      <td>1</td>\n",
       "      <td>1.0</td>\n",
       "      <td>14.0</td>\n",
       "      <td>12999.542264</td>\n",
       "    </tr>\n",
       "    <tr>\n",
       "      <th>3</th>\n",
       "      <td>2</td>\n",
       "      <td>1.0</td>\n",
       "      <td>2.0</td>\n",
       "      <td>7.0</td>\n",
       "      <td>7.0</td>\n",
       "      <td>39</td>\n",
       "      <td>1</td>\n",
       "      <td>2.0</td>\n",
       "      <td>17.0</td>\n",
       "      <td>12999.542264</td>\n",
       "    </tr>\n",
       "    <tr>\n",
       "      <th>4</th>\n",
       "      <td>2</td>\n",
       "      <td>1.0</td>\n",
       "      <td>2.0</td>\n",
       "      <td>6.0</td>\n",
       "      <td>6.0</td>\n",
       "      <td>39</td>\n",
       "      <td>1</td>\n",
       "      <td>3.0</td>\n",
       "      <td>18.0</td>\n",
       "      <td>12999.542264</td>\n",
       "    </tr>\n",
       "    <tr>\n",
       "      <th>5</th>\n",
       "      <td>6</td>\n",
       "      <td>1.0</td>\n",
       "      <td>1.0</td>\n",
       "      <td>8.0</td>\n",
       "      <td>8.0</td>\n",
       "      <td>38</td>\n",
       "      <td>1</td>\n",
       "      <td>1.0</td>\n",
       "      <td>27.0</td>\n",
       "      <td>8874.440799</td>\n",
       "    </tr>\n",
       "    <tr>\n",
       "      <th>6</th>\n",
       "      <td>6</td>\n",
       "      <td>1.0</td>\n",
       "      <td>2.0</td>\n",
       "      <td>9.0</td>\n",
       "      <td>9.0</td>\n",
       "      <td>40</td>\n",
       "      <td>1</td>\n",
       "      <td>2.0</td>\n",
       "      <td>28.0</td>\n",
       "      <td>8874.440799</td>\n",
       "    </tr>\n",
       "    <tr>\n",
       "      <th>7</th>\n",
       "      <td>6</td>\n",
       "      <td>1.0</td>\n",
       "      <td>2.0</td>\n",
       "      <td>8.0</td>\n",
       "      <td>8.0</td>\n",
       "      <td>42</td>\n",
       "      <td>1</td>\n",
       "      <td>3.0</td>\n",
       "      <td>30.0</td>\n",
       "      <td>8874.440799</td>\n",
       "    </tr>\n",
       "    <tr>\n",
       "      <th>8</th>\n",
       "      <td>7</td>\n",
       "      <td>1.0</td>\n",
       "      <td>1.0</td>\n",
       "      <td>7.0</td>\n",
       "      <td>7.0</td>\n",
       "      <td>39</td>\n",
       "      <td>1</td>\n",
       "      <td>1.0</td>\n",
       "      <td>28.0</td>\n",
       "      <td>6911.879921</td>\n",
       "    </tr>\n",
       "    <tr>\n",
       "      <th>9</th>\n",
       "      <td>7</td>\n",
       "      <td>1.0</td>\n",
       "      <td>2.0</td>\n",
       "      <td>6.0</td>\n",
       "      <td>61.0</td>\n",
       "      <td>35</td>\n",
       "      <td>1</td>\n",
       "      <td>2.0</td>\n",
       "      <td>32.0</td>\n",
       "      <td>6911.879921</td>\n",
       "    </tr>\n",
       "  </tbody>\n",
       "</table>\n",
       "</div>"
      ],
      "text/plain": [
       "   caseid  nbrnaliv  babysex  birthwgt_lb  birthwgt_oz  prglength  outcome  \\\n",
       "0       1       1.0      1.0          8.0         81.0         39        1   \n",
       "1       1       1.0      2.0          7.0         71.0         39        1   \n",
       "2       2       3.0      1.0          9.0          9.0         39        1   \n",
       "3       2       1.0      2.0          7.0          7.0         39        1   \n",
       "4       2       1.0      2.0          6.0          6.0         39        1   \n",
       "5       6       1.0      1.0          8.0          8.0         38        1   \n",
       "6       6       1.0      2.0          9.0          9.0         40        1   \n",
       "7       6       1.0      2.0          8.0          8.0         42        1   \n",
       "8       7       1.0      1.0          7.0          7.0         39        1   \n",
       "9       7       1.0      2.0          6.0         61.0         35        1   \n",
       "\n",
       "   birthord  agepreg      finalwgt  \n",
       "0       1.0     33.0   6448.271112  \n",
       "1       2.0     39.0   6448.271112  \n",
       "2       1.0     14.0  12999.542264  \n",
       "3       2.0     17.0  12999.542264  \n",
       "4       3.0     18.0  12999.542264  \n",
       "5       1.0     27.0   8874.440799  \n",
       "6       2.0     28.0   8874.440799  \n",
       "7       3.0     30.0   8874.440799  \n",
       "8       1.0     28.0   6911.879921  \n",
       "9       2.0     32.0   6911.879921  "
      ]
     },
     "execution_count": 8,
     "metadata": {},
     "output_type": "execute_result"
    }
   ],
   "source": [
    "data = pd.read_fwf(\"2002FemPreg.dat\", names=[\"caseid\", \"nbrnaliv\", \"babysex\", \"birthwgt_lb\",\"birthwgt_oz\", \n",
    "                                             \"prglength\", \"outcome\", \"birthord\", \"agepreg\", \"finalwgt\"],\n",
    "                                       colspecs=[(0, 12), (21, 22), (55, 56), (57, 58), (57, 59),\n",
    "                                                 (274, 276), (276, 277), (278, 279), (283, 285), (422, 439)])\n",
    "data.head(10)"
   ]
  },
  {
   "cell_type": "code",
   "execution_count": 13,
   "metadata": {},
   "outputs": [
    {
     "name": "stdout",
     "output_type": "stream",
     "text": [
      "Standard deviation of gestation time for first babies:  2.7919014146686947\n",
      "Standard deviation of gestation time for non first babies:  2.615852350439255\n",
      "\n",
      "Mean pregnancy weeks for first babies:  38.60095173351461\n",
      "Mean pregnancy weeks for non first babies:  38.52291446673706\n"
     ]
    }
   ],
   "source": [
    "#As mean describes the central tendency of a sample, Variance is intended to describe(quantify) the spread(it describes\n",
    "#how much variability there is). \n",
    "#The square root of variance is Standard Deviation(which is also used as a measure of spread).\n",
    "#Reusing the data from the previous notebook, compute the standard deviation of gestation time for first babies and others\n",
    "live_births = data[data['outcome'] == 1]\n",
    "\n",
    "first_babies = live_births[live_births['birthord'] == 1]\n",
    "others = live_births[live_births['birthord'] != 1]\n",
    "\n",
    "#std(): Normalized by N-1 by default. You might have seen a formula for variance with n-1 in the denominator, rather than n.\n",
    "#This statistic is called the \"sample variance\", and it is used to estimate the variance in a population using a sample.\n",
    "print('Standard deviation of gestation time for first babies: ', first_babies['prglength'].std())\n",
    "print('Standard deviation of gestation time for non first babies: ', others['prglength'].std())\n",
    "\n",
    "\n",
    "print('\\nMean pregnancy weeks for first babies: ', first_babies['prglength'].mean())\n",
    "print('Mean pregnancy weeks for non first babies: ', others['prglength'].mean())"
   ]
  },
  {
   "cell_type": "raw",
   "metadata": {},
   "source": [
    "In statistics, an effect size is a quantitative measure of the magnitude of a phenomenon.\n",
    "Effect size is an essential component when evaluating the strength of a statistical claim, and it is the first item (magnitude) in the MAGIC criteria. The standard deviation of the effect size is of critical importance, since it indicates how much uncertainty is included in the measurement. \n",
    "Cohen's d is an effect size used to indicate the standardised difference between two means.\n",
    "Cohen's d is an appropriate effect size for the comparison between two means.\n",
    "In meta-analysis, where the purpose is to combine multiple effect sizes, the uncertainty in the effect size is used to weigh effect sizes, so that large studies are considered more important than small studies. The uncertainty in the effect size is calculated differently for each type of effect size, but generally only requires knowing the study's sample size (N), or the number of observations (n) in each group."
   ]
  },
  {
   "cell_type": "code",
   "execution_count": 20,
   "metadata": {},
   "outputs": [
    {
     "data": {
      "text/plain": [
       "0.028845968264912227"
      ]
     },
     "execution_count": 20,
     "metadata": {},
     "output_type": "execute_result"
    }
   ],
   "source": [
    "#How big is the difference in the means compared to these standard deviations?\n",
    "#The functon below computes the Cohen effect size, which is the difference in means expressed in number of standard deviations:\n",
    "#https://github.com/AllenDowney/ThinkStats2/blob/master/solutions/chap02soln.ipynb\n",
    "\n",
    "def CohenEffectSize(group1, group2):\n",
    "    \"\"\"Computes Cohen's effect size for two groups.\n",
    "    \n",
    "    group1: Series or DataFrame\n",
    "    group2: Series or DataFrame\n",
    "    \n",
    "    returns: float if the arguments are Series;\n",
    "             Series if the arguments are DataFrames\n",
    "    \"\"\"\n",
    "    diff = group1.mean() - group2.mean()\n",
    "\n",
    "    #Variance is intended to describe the spread\n",
    "    variance1 = group1.var()\n",
    "    variance2 = group2.var()\n",
    "    number_of_observations_1, number_of_observations_1 = len(group1), len(group2)\n",
    "\n",
    "    pooled_var = (number_of_observations_1 * variance1 + number_of_observations_1 * variance2) / (number_of_observations_1 + number_of_observations_1)\n",
    "    d = diff / np.sqrt(pooled_var)\n",
    "    \n",
    "    return d\n",
    "\n",
    "\n",
    "CohenEffectSize(first_babies.prglength, others.prglength)"
   ]
  },
  {
   "cell_type": "raw",
   "metadata": {},
   "source": [
    "https://en.wikipedia.org/wiki/Effect_size\n",
    "    \n",
    "The table below contains descriptors for magnitudes of d = 0.01 to 2.0\n",
    "\n",
    "Effect size:  d   - Reference\n",
    "Very small:  0.01 - Sawilowsky, 2009\n",
    "Small:       0.20 - Cohen, 1988\n",
    "Medium:      0.50 - Cohen, 1988\n",
    "Large:       0.80 - Cohen, 1988\n",
    "Very large:  1.20 - Sawilowsky, 2009\n",
    "Huge:        2.0  - Sawilowsky, 2009"
   ]
  },
  {
   "cell_type": "raw",
   "metadata": {},
   "source": [
    "Summary Statistics(the information that gives a quick and simple description of the data - mean, median, mode, minimum value,\n",
    "maximum value, range, standard deviation, etc.) are concise, but dangerous because they obscure the data. An alternative is\n",
    "to look at the distribution of the data, which describes how often each value appears."
   ]
  },
  {
   "cell_type": "code",
   "execution_count": 43,
   "metadata": {},
   "outputs": [
    {
     "data": {
      "image/png": "[encoded data removed]",
      "text/plain": [
       "<Figure size 432x288 with 1 Axes>"
      ]
     },
     "metadata": {
      "needs_background": "light"
     },
     "output_type": "display_data"
    }
   ],
   "source": [
    "#PMF stands for Probability Mass Function which is a normalized histogram\n",
    "#A probability mass function (PMF) is a function over the sample space of a discrete random variable X which gives the \n",
    "#probability that X is equal to a certain value\n",
    "#The process of dividing a frequency(value_counts()) by a sample size(len(...)) to get a probability is called normalization\n",
    "pmf = first_babies.prglength.value_counts().sort_index() / len(first_babies.prglength)\n",
    "pmf.plot(kind='bar')\n",
    "plt.xlabel('Pregnancy duration in weeks')\n",
    "plt.ylabel('Count')\n",
    "plt.title('PMF of Pregnancy lengths for First Babies')\n",
    "plt.show()"
   ]
  },
  {
   "cell_type": "code",
   "execution_count": 44,
   "metadata": {},
   "outputs": [
    {
     "data": {
      "image/png": "[encoded data removed]",
      "text/plain": [
       "<Figure size 432x288 with 1 Axes>"
      ]
     },
     "metadata": {
      "needs_background": "light"
     },
     "output_type": "display_data"
    }
   ],
   "source": [
    "pmf = others.prglength.value_counts().sort_index() / len(others.prglength)\n",
    "pmf.plot(kind='bar')\n",
    "plt.xlabel('Pregnancy duration in weeks')\n",
    "plt.ylabel('Count')\n",
    "plt.title('PMF of Pregnancy lengths for Others')\n",
    "plt.show()"
   ]
  },
  {
   "cell_type": "code",
   "execution_count": 45,
   "metadata": {},
   "outputs": [
    {
     "data": {
      "image/png": "[encoded data removed]",
      "text/plain": [
       "<Figure size 432x288 with 1 Axes>"
      ]
     },
     "metadata": {
      "needs_background": "light"
     },
     "output_type": "display_data"
    }
   ],
   "source": [
    "pmf = first_babies.agepreg.value_counts().sort_index() / len(others.agepreg)\n",
    "pmf.plot(kind='bar')\n",
    "plt.xlabel('Age')\n",
    "plt.ylabel('Count')\n",
    "plt.title('PMF of Pregnancy Age for First Babies')\n",
    "plt.show()"
   ]
  },
  {
   "cell_type": "code",
   "execution_count": 46,
   "metadata": {},
   "outputs": [
    {
     "data": {
      "image/png": "[encoded data removed]",
      "text/plain": [
       "<Figure size 432x288 with 1 Axes>"
      ]
     },
     "metadata": {
      "needs_background": "light"
     },
     "output_type": "display_data"
    }
   ],
   "source": [
    "pmf = others.agepreg.value_counts().sort_index() / len(others.agepreg)\n",
    "pmf.plot(kind='bar')\n",
    "plt.xlabel('Age')\n",
    "plt.ylabel('Count')\n",
    "plt.title('PMF of Pregnancy Age for Others')\n",
    "plt.show()"
   ]
  },
  {
   "cell_type": "raw",
   "metadata": {},
   "source": [
    "Outliers are values that are far from the central tendency. Outliers might be caused by errors in collecting or processing the \n",
    "data, or they might be correct but unusual measurements. It is always a good idea to check for outliers, and sometimes it is \n",
    "useful and appropriate to discard them."
   ]
  },
  {
   "cell_type": "code",
   "execution_count": 55,
   "metadata": {},
   "outputs": [
    {
     "data": {
      "text/plain": [
       "39    4693\n",
       "40    1116\n",
       "38     607\n",
       "41     587\n",
       "37     455\n",
       "42     328\n",
       "36     321\n",
       "35     311\n",
       "43     148\n",
       "30     138\n",
       "32     115\n",
       "34      60\n",
       "33      49\n",
       "44      46\n",
       "26      35\n",
       "28      32\n",
       "31      27\n",
       "29      21\n",
       "24      13\n",
       "45      10\n",
       "22       7\n",
       "48       7\n",
       "27       3\n",
       "25       3\n",
       "17       2\n",
       "50       2\n",
       "21       2\n",
       "23       1\n",
       "4        1\n",
       "46       1\n",
       "13       1\n",
       "20       1\n",
       "9        1\n",
       "19       1\n",
       "18       1\n",
       "47       1\n",
       "0        1\n",
       "Name: prglength, dtype: int64"
      ]
     },
     "execution_count": 55,
     "metadata": {},
     "output_type": "execute_result"
    }
   ],
   "source": [
    "#Pregnancy lengths for live births\n",
    "live_births.loc[:,'prglength'].value_counts().sort_values(ascending=False)\n",
    "\n",
    "#Certainly, values below 20 weeks are errors, and values higher than 30 weeks are probably legitimate. Values in between are\n",
    "#hard to interpret. Since it's hard to know for sure, one option is to trim the data by discarding some fraction of the \n",
    "#highest and lowest values(#https://en.wikipedia.org/wiki/Truncated_mean)"
   ]
  },
  {
   "cell_type": "raw",
   "metadata": {},
   "source": [
    "Relative Risk is a ratio of two probabilites, it is often used to measure a difference between distributions.\n",
    "For example, suppose that the probability that a first baby is born early is 18.2%. For other babies it is 16.8%, so the relative risk is 1.08. That means that first babies are about 8% more likely to be early."
   ]
  }
 ],
 "metadata": {
  "kernelspec": {
   "display_name": "Python 3",
   "language": "python",
   "name": "python3"
  },
  "language_info": {
   "codemirror_mode": {
    "name": "ipython",
    "version": 3
   },
   "file_extension": ".py",
   "mimetype": "text/x-python",
   "name": "python",
   "nbconvert_exporter": "python",
   "pygments_lexer": "ipython3",
   "version": "3.7.6"
  }
 },
 "nbformat": 4,
 "nbformat_minor": 4
}
