{
 "cells": [
  {
   "cell_type": "markdown",
   "metadata": {},
   "source": [
    "Think Stats book - Chapter 5: Probability"
   ]
  },
  {
   "cell_type": "code",
   "execution_count": 11,
   "metadata": {},
   "outputs": [],
   "source": [
    "import math\n",
    "from math import factorial\n",
    "import pandas as pd\n",
    "import numpy as np\n",
    "import matplotlib.pyplot as plt\n",
    "import seaborn as sns\n",
    "import random\n",
    "from scipy.stats import norm, binom"
   ]
  },
  {
   "cell_type": "markdown",
   "metadata": {},
   "source": [
    "One of the definitions of probability is that a probability is a frequency expressed as a fraction of the sample size. The \"things\" we assign to probabilities to are called events. If E represents and event, then P(E) represents the probability that E will occur. A situation where E might or might not happen is called a trial. Frequentism defines probability in terms of frequencies, so if there's no set of identical trials (like rolling a die or tossing a coin, for example), there is no probability. "
   ]
  },
  {
   "cell_type": "markdown",
   "metadata": {},
   "source": [
    "An alternative is Bayesianism, which defines probability as a degre of belief that an event will occur. By definition, the notion of probability can be applied in almost any circunstance."
   ]
  },
  {
   "cell_type": "markdown",
   "metadata": {},
   "source": [
    "Rules of Probability:"
   ]
  },
  {
   "cell_type": "markdown",
   "metadata": {},
   "source": [
    "P(A and B) = P(A)P(B), where A and B are independent(which means that if I know A occurred, that doesn't change the probability of B, and vice versa)."
   ]
  },
  {
   "cell_type": "markdown",
   "metadata": {},
   "source": [
    "P(A|B) = P(A and B) / P(B), where A and B are not independent it's useful to compute the conditional probability(which is the probability of A given that we know B occurred). You can also write it like: P(A and B) = P(A)P(B|A), or even P(A and B) = P(B)P(A|B)."
   ]
  },
  {
   "cell_type": "markdown",
   "metadata": {},
   "source": [
    "Example 5-1. If I roll two dice and the total is eight, what is the chance that one of the dice is a six?"
   ]
  },
  {
   "cell_type": "markdown",
   "metadata": {},
   "source": [
    "Solution: The possibilities of rolling two dice ang getting a total of eight are: (6,2), (2,6), (4,4), (3,5), (5,8). Among these possibilities, there are two cases where the sum is eight and one of the dice is a six, which are (6,2) and (2,6). So, the chance of getting a six is 2/5 = 0.4"
   ]
  },
  {
   "cell_type": "markdown",
   "metadata": {},
   "source": [
    "Example 5-2. If I roll 100 dice, what is the chance of getting all sixes? What is the chance of getting no sixes?"
   ]
  },
  {
   "cell_type": "markdown",
   "metadata": {},
   "source": [
    "Solution: Since these events are mutually independent and the chance of getting a six is 1/6, then the chance of getting all sixes is (1/6)^100 = 1.530646707486498e-78. The chance of getting no sixes is (5/6)^100 = 1.2074673472413721e-08"
   ]
  },
  {
   "cell_type": "markdown",
   "metadata": {},
   "source": [
    "Example 5-3-1. If a family has two children, what is the chance that they get two girls? "
   ]
  },
  {
   "cell_type": "markdown",
   "metadata": {},
   "source": [
    "Solution: (1/2)*(1/2) = 0.25"
   ]
  },
  {
   "cell_type": "markdown",
   "metadata": {},
   "source": [
    "Example 5-3-2. If a family has two children and we know that at least one of them is a girl, what is the chance that they have two girls? "
   ]
  },
  {
   "cell_type": "markdown",
   "metadata": {},
   "source": [
    "Solution: We might consider the following possibilities: (Girl,Boy), (Girl,Girl). Since the events are mutually independent, and we are interested in the event where both children are girls, then the probability is 1/2 = 0.5"
   ]
  },
  {
   "cell_type": "markdown",
   "metadata": {},
   "source": [
    "Example 5-3-3. If a family has two children and we know that the older one is a girl, what is the chance that they have two girls?"
   ]
  },
  {
   "cell_type": "markdown",
   "metadata": {},
   "source": [
    "Solution: We might consider the following possibilities: (Girl,Girl), (Girl,Boy). The probability that they have two girls is 1/2 = 0.5"
   ]
  },
  {
   "cell_type": "markdown",
   "metadata": {},
   "source": [
    "Example 5-3-4. If a family has two children and we know that at least one of them is a girl name Florida, what is the chance that they have two girls?"
   ]
  },
  {
   "cell_type": "markdown",
   "metadata": {},
   "source": [
    "Solution: The name of the girl does not affect the outcome. The chance that they have two girls is 0.5 for the same reason we talked about above."
   ]
  },
  {
   "cell_type": "markdown",
   "metadata": {},
   "source": [
    "The Monty Hall Problem: The Monty Hall problem is a famous, seemingly paradoxical problem in conditional probability and reasoning using Bayes' theorem. Information affects your decision that at first glance seems as though it shouldn't. "
   ]
  },
  {
   "cell_type": "code",
   "execution_count": 2,
   "metadata": {},
   "outputs": [
    {
     "name": "stdout",
     "output_type": "stream",
     "text": [
      "Probability of victory when you stick with the same door: 0.319\n",
      "Probability of victory when you switch doors: 0.681\n"
     ]
    }
   ],
   "source": [
    "#Write a program that simulates the Monty Hall problem and use it to estimate the probability of winning if you stick\n",
    "#and if you switch.\n",
    "trials = 1000\n",
    "number_of_doors = 3\n",
    "games_won_switch = 0\n",
    "games_won_stick = 0\n",
    "doors = [0, 1, 2]\n",
    "\n",
    "for trial in range(trials):\n",
    "    door_with_prize = np.random.randint(number_of_doors)\n",
    "    initial_choice = np.random.randint(number_of_doors)\n",
    "    \n",
    "    #Monty opens one of the other doors (one which you did not choose and which doesn't contain the prize)\n",
    "    #If you chose the door with the prize then Monty can randomly open any of the remaining doors\n",
    "    available_doors_for_monty_to_open = [door for door in doors if (door != initial_choice) and (door != door_with_prize)]\n",
    "\n",
    "    door_opened_by_monty = available_doors_for_monty_to_open[np.random.randint(len(available_doors_for_monty_to_open))]\n",
    "    \n",
    "    second_choice = [door for door in doors if (door != door_opened_by_monty) and (door != initial_choice)][0]\n",
    "    \n",
    "    if initial_choice == door_with_prize:\n",
    "        games_won_stick += 1\n",
    "    if second_choice == door_with_prize:\n",
    "        games_won_switch += 1\n",
    "\n",
    "print(\"Probability of victory when you stick with the same door: \" + str(games_won_stick/trials))\n",
    "print(\"Probability of victory when you switch doors: \" + str(games_won_switch/trials))"
   ]
  },
  {
   "cell_type": "markdown",
   "metadata": {},
   "source": [
    "To understand the Monty Hall problem, it is important to realize that by deciding which door to open, Monty is giving you information. To see why this matters, imagine the case where Monty doesn't know where the prizes are, so he chooses Door B or C at random. If he opens the door with the car, the game is over, you loose and you don't get to choose whether to switch or stick. Basically, the possibility of switching doors (instead of sticking with the same - also in the case where Monty doesn't know where the prize is, then he opens the door with the car and you lose) increases your chances (and consequently the probability of winning the prize). "
   ]
  },
  {
   "cell_type": "code",
   "execution_count": 3,
   "metadata": {},
   "outputs": [
    {
     "name": "stdout",
     "output_type": "stream",
     "text": [
      "Probability of victory when you stick with the same door: 0.312\n",
      "Probability of victory when you switch doors: 0.351\n"
     ]
    }
   ],
   "source": [
    "#Write again a program to simulate the Monty Hall problem but this time consider that Monty doesn't know where the prize is.\n",
    "#Write a program that simulates the Monty Hall problem and use it to estimate the probability of winning if you stick\n",
    "#and if you switch.\n",
    "trials = 1000\n",
    "number_of_doors = 3\n",
    "games_won_switch = 0\n",
    "games_won_stick = 0\n",
    "doors = [0, 1, 2]\n",
    "\n",
    "for trial in range(trials):\n",
    "    door_with_prize = np.random.randint(number_of_doors)\n",
    "    initial_choice = np.random.randint(number_of_doors)\n",
    "    \n",
    "    available_doors_for_monty_to_open = [door for door in doors if door != initial_choice]\n",
    "\n",
    "    door_opened_by_monty = available_doors_for_monty_to_open[np.random.randint(len(available_doors_for_monty_to_open))]\n",
    "    \n",
    "    if door_opened_by_monty == door_with_prize:\n",
    "        continue\n",
    "        \n",
    "    second_choice = [door for door in doors if (door != door_opened_by_monty) and (door != initial_choice)][0]\n",
    "    \n",
    "    if initial_choice == door_with_prize:\n",
    "        games_won_stick += 1\n",
    "    if second_choice == door_with_prize:\n",
    "        games_won_switch += 1\n",
    "\n",
    "print(\"Probability of victory when you stick with the same door: \" + str(games_won_stick/trials))\n",
    "print(\"Probability of victory when you switch doors: \" + str(games_won_switch/trials))"
   ]
  },
  {
   "cell_type": "code",
   "execution_count": 4,
   "metadata": {},
   "outputs": [
    {
     "name": "stdout",
     "output_type": "stream",
     "text": [
      "42.8%\n"
     ]
    }
   ],
   "source": [
    "trials = 10000\n",
    "men_mean_height = 178\n",
    "men_height_std = 59.4\n",
    "women_mean_height = 163\n",
    "women_height_std = 52.8\n",
    "taller_women = 0\n",
    "\n",
    "men_heights = np.random.normal(loc=men_mean_height, scale=men_height_std, size=trials)\n",
    "women_heights = np.random.normal(loc=women_mean_height, scale=women_height_std, size=trials)\n",
    "\n",
    "for i in range(trials):\n",
    "    if women_heights[i] > men_heights[i]:\n",
    "        taller_women += 1 \n",
    "    \n",
    "print(str((taller_women * 100) / trials) + \"%\")"
   ]
  },
  {
   "cell_type": "markdown",
   "metadata": {},
   "source": [
    "Formula for the probability of A and B (independent events): p(A and B) = p(A) * p(B)."
   ]
  },
  {
   "cell_type": "markdown",
   "metadata": {},
   "source": [
    "Formula for the probability of A and B (dependent events): p(A and B) = p(A) * p(B|A)"
   ]
  },
  {
   "cell_type": "markdown",
   "metadata": {},
   "source": [
    "Formula for the probability of A or B (if the events A and B are not mutually exclusive): p(A or B) = p(A) + p(B) – p(A and B)"
   ]
  },
  {
   "cell_type": "markdown",
   "metadata": {},
   "source": [
    "Example 5-8: If I roll two dice, what is the chance of rolling at least one six?"
   ]
  },
  {
   "cell_type": "markdown",
   "metadata": {},
   "source": [
    "Solution:  Consider the complement problem, there is a 5/6 probability of not rolling a six for any given die, and since the two dice are independent, the probability of not rolling a six is (5/6)^2 = 0.6944444444444445. The probability of rolling at least one six is therefore 1 - 0.6944444444444445 = 0.30555555555555547"
   ]
  },
  {
   "cell_type": "markdown",
   "metadata": {},
   "source": [
    "Binomial Distribution: If I roll 100 dice, the change of getting all sixes is (1/6)^100. And the chance of getting no sixes is (5/6)^100. More generally, we might like to know the chance of getting k sizes, for all values of k from 0 to 100. The answer is the binomial distribution(and you can compute PMF values with it). A binomial distribution has some requirements such as: A fixed number of trials. Each trial is independent of the others. There are only two outcomes. The probability of each outcome remains constant from trial to trial."
   ]
  },
  {
   "cell_type": "markdown",
   "metadata": {},
   "source": [
    "The probabilities for discrete distributions are found using PMFs: Binomial, Hypergeometric, Poisson, Geometric, Negative Binomial, etc. The probabilities for continuous distributions are found using PDFs: Exponential, Gamma, Pareto, Normal, Lognormal, Student’s T, F, etc."
   ]
  },
  {
   "cell_type": "markdown",
   "metadata": {},
   "source": [
    "Example 5-10. If you flip a coin 100 times, you expect about 50 heads, but what is the probability of getting exactly 50 heads?"
   ]
  },
  {
   "cell_type": "code",
   "execution_count": 24,
   "metadata": {},
   "outputs": [
    {
     "name": "stdout",
     "output_type": "stream",
     "text": [
      "0.07958923738717877\n",
      "0.07958923738717888\n"
     ]
    }
   ],
   "source": [
    "#Using the formula\n",
    "n = 100 #n: number of trials\n",
    "k = 50 #k: number of successes\n",
    "p = 0.5 #p: probability of success\n",
    "\n",
    "pmf = (factorial(n) / (factorial(k) * (n + (factorial(k))))) * math.pow(p, k) * math.pow(p, k) \n",
    "print(pmf)\n",
    "\n",
    "print(binom.pmf(k, n, p)) #Probability mass function at k of the given RV"
   ]
  },
  {
   "cell_type": "markdown",
   "metadata": {},
   "source": [
    "Streaks and Hot Spots: In real scenarios of random processes, there is no such thing as streak. If you assume that each attempt is independent of previous attempts, you will see ocasional long strings of successes or failures."
   ]
  },
  {
   "cell_type": "markdown",
   "metadata": {},
   "source": [
    "To test whether an apparent cluster is likely to be meaningful, we can simulate the behavior of a random system to see whether it is likely to produce a similar cluster. This process is called Monte Carlo simulation. The underlying concept is to use randomness to solve problems that might be deterministic in principle. Monte Carlo methods are mainly used in three problem classes: optimization, numerical integration, and generating draws from a probability distribution."
   ]
  },
  {
   "cell_type": "markdown",
   "metadata": {},
   "source": [
    "Bayes' Theorem is a relationship between the conditional probabilities of two events. A conditional probability P(A|B) is the probability that event A will occur given that we know that event B has occurred. "
   ]
  },
  {
   "cell_type": "markdown",
   "metadata": {},
   "source": [
    "P(A|B) = (P(B|A) * P(A)) / P(B), for independent events (i.e., the probability of the outcome of event A does not depend on the probability of the outcome of event B)"
   ]
  },
  {
   "cell_type": "markdown",
   "metadata": {},
   "source": [
    "P(A|B) = (P(A)*P(E|A)) / ((P(A)*P(E|A)) + (P(N)*P(E|N))), this is a special case of the Bayes’ theorem which happens when event A is a binary variable. Events' outcomes must be mutually exclusive. N is the hypothesis where the the event is a failure."
   ]
  },
  {
   "cell_type": "markdown",
   "metadata": {},
   "source": [
    "Example 5-15. Suppose there are two full bowls of cookies. Bowl 1 has 10 chocolate chip and 30 plain cookies, while bowl 2 has 20 of each. Our friend Fred picks a bowl at random, and then picks a cookie at random. We may assume there is no reason to believe Fred treats one bowl differently from another, likewise for the cookies. The cookie turns out to be a plain one. How probable is it that Fred picked it out of Bowl 1?"
   ]
  },
  {
   "cell_type": "code",
   "execution_count": 36,
   "metadata": {},
   "outputs": [
    {
     "name": "stdout",
     "output_type": "stream",
     "text": [
      "0.6\n"
     ]
    }
   ],
   "source": [
    "#Hypotheses:\n",
    "#A: the cookie came from Bowl 1\n",
    "#B: the cookie came from Bowl 2\n",
    "prob = 0.5 #p(A) = p(B) = 1/2\n",
    "\n",
    "#E(evidence): the cookie is plain\n",
    "#Likelihoods (probability of the evidence conditioned on a hypothesis)\n",
    "prob_e_given_a = 30/40 #plain cookies from bowl 1\n",
    "prob_e_given_b = 20/40 #plain cookies from bowl 2\n",
    "\n",
    "#P(A|E) = ( P(A)*P(E|A) ) / ( (P(A)*P(E|A)) + (P(N)*P(E|N)) ) \n",
    "#where N is the hypothesis that Fred doesn't take the cookies from bowl 1\n",
    "prob_bowl1_given_plain_cookie = (prob_e_given_a * prob) / ( (prob_e_given_a * prob) + (prob_e_given_b * prob) )\n",
    "print(prob_bowl1_given_plain_cookie)"
   ]
  },
  {
   "cell_type": "markdown",
   "metadata": {},
   "source": [
    "Example 5-16. The blue M&M was introduced in 1995.  Before then, the color mix in a bag of plain M&Ms was (30% Brown, 20% Yellow, 20% Red, 10% Green, 10% Orange, 10% Tan).  Afterward it was (24% Blue , 20% Green, 16% Orange, 14% Yellow, 13% Red, 13% Brown). \n",
    "A friend of mine has two bags of M&Ms, and he tells me that one is from 1994 and one from 1996.  He won't tell me which is which, but he gives me one M&M from each bag.  One is yellow and one is green.  What is the probability that the yellow M&M came from the 1994 bag?"
   ]
  },
  {
   "cell_type": "code",
   "execution_count": 37,
   "metadata": {},
   "outputs": [
    {
     "name": "stdout",
     "output_type": "stream",
     "text": [
      "0.7407407407407408\n"
     ]
    }
   ],
   "source": [
    "#Hypotheses:\n",
    "#A: the M&M was from the 1994 bag\n",
    "#B: the M&M was from the 1996 bag\n",
    "prob = 0.5 #P(A) = P(B) = 1/2\n",
    "\n",
    "#E(evidence): one is yellow and one is green\n",
    "#Likelihoods(in this case, since we have two evidences, we get the likelihoods by multiplying the probabilities for the two M&M)\n",
    "prob_e_given_a = 0.2 * 0.2 #yellow M&M from the 1994 bag and green M&M from the 1996 bag\n",
    "prob_e_given_b = 0.14 * 0.1 #yellow M&M from the 1996 bag and green M&M from the 1994 bag\n",
    "\n",
    "#P(A|E) = ( P(A)*P(E|A) ) / ( (P(A)*P(E|A)) + (P(N)*P(E|N)) ) \n",
    "prob_a_given_e = (prob * prob_e_given_a) / ((prob * prob_e_given_a) + (prob * prob_e_given_b))\n",
    "print(prob_a_given_e)"
   ]
  },
  {
   "cell_type": "markdown",
   "metadata": {},
   "source": [
    "Example 5-17. Elvis Presley had a twin brother who died at birth.  What is the probability that Elvis was an identical twin?\n",
    "To answer this one, you need some background information: According to the Wikipedia article on twins: \"Twins are estimated to be approximately 1.9% of the world population, with monozygotic twins making up 0.2% of the total - and 8% of all twins.\""
   ]
  },
  {
   "cell_type": "code",
   "execution_count": 43,
   "metadata": {},
   "outputs": [
    {
     "name": "stdout",
     "output_type": "stream",
     "text": [
      "0.14814814814814814\n"
     ]
    }
   ],
   "source": [
    "#Hypotheses:\n",
    "#A: Elvis was an identical twin (monozygotic) - Identical twins are the same sex\n",
    "#B: Elvis was not an identical twin (fraternal/dizygotic/non-identical twins) - Fraternal twins can be the same or opposite sex\n",
    "prob_a = 0.08 #P(A)\n",
    "prob_b = 1 - prob_a #P(B)\n",
    "\n",
    "#E(evidence): Elvis had a twin brother \n",
    "#Likelihoods:\n",
    "prob_e_given_a = 1 #since both are male\n",
    "prob_e_given_b = 0.5 #since fraternal twins can be the same or opposite sex\n",
    "\n",
    "#P(A|E) = ( P(A)*P(E|A) ) / ( (P(A)*P(E|A)) + (P(N)*P(E|N)) ) \n",
    "prob_a_given_e = (prob_a * prob_e_given_a) / ((prob_a * prob_e_given_a) + (prob_b * prob_e_given_b))\n",
    "print(prob_a_given_e)"
   ]
  }
 ],
 "metadata": {
  "kernelspec": {
   "display_name": "Python 3",
   "language": "python",
   "name": "python3"
  },
  "language_info": {
   "codemirror_mode": {
    "name": "ipython",
    "version": 3
   },
   "file_extension": ".py",
   "mimetype": "text/x-python",
   "name": "python",
   "nbconvert_exporter": "python",
   "pygments_lexer": "ipython3",
   "version": "3.7.6"
  }
 },
 "nbformat": 4,
 "nbformat_minor": 4
}
